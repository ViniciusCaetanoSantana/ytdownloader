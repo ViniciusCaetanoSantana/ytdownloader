{
 "cells": [
  {
   "cell_type": "code",
   "execution_count": 1,
   "metadata": {},
   "outputs": [],
   "source": [
    "from pytube import exceptions\n",
    "from pytube import YouTube\n",
    "from pytube import Playlist\n",
    "import os"
   ]
  },
  {
   "cell_type": "code",
   "execution_count": null,
   "metadata": {},
   "outputs": [],
   "source": [
    "num = input('Quantos links?')\n",
    "caminho = os.getcwd()\n",
    "arquivo = caminho + r\"\\coisas baixadas(pytube)\"\n",
    "\n",
    "try:\n",
    "    for baixar in range(int(num)):\n",
    "        links = str(input('Coloque o link'))\n",
    "        tipo = str(input('Tipo (MP3/MP4)')).lower()\n",
    "\n",
    "        if 'playlist' in links:\n",
    "            try:\n",
    "                p = Playlist(f'{links}')\n",
    "            except exceptions.RegexMatchError:\n",
    "                print(f'LINK NÃO ACEITO, VOCÊ ESCREVEU: {links}')\n",
    "                break\n",
    "\n",
    "            print(f'Baixando playlist \"{p.title}\":')\n",
    "            for video in p.videos:\n",
    "                if tipo == 'mp4':\n",
    "                    video.streams.filter(res='720p').first().download(output_path=arquivo)\n",
    "                    print(f'{video.title}.{tipo} baixado')\n",
    "                if tipo == 'mp3':\n",
    "                    video.streams.filter(only_audio=True).first().download(output_path=arquivo)\n",
    "                    print(f'{video.title}.{tipo} baixado')\n",
    "                elif tipo != 'mp4' and tipo != 'mp3':\n",
    "                    print(f'ESCREVA MP3 OU MP4, VOCÊ ESCREVEU: {tipo}')\n",
    "\n",
    "        \n",
    "\n",
    "        else:\n",
    "            try:\n",
    "                yt = YouTube(links)\n",
    "            except exceptions.RegexMatchError:\n",
    "                print(f'LINK NÃO ACEITO, VOCÊ ESCREVEU: {links}')\n",
    "                break\n",
    "            if tipo == 'mp4':\n",
    "                yt.streams.filter(res='720p').first().download(output_path=arquivo)\n",
    "                print(f'{yt.title}.{tipo} baixado')\n",
    "            elif tipo == 'mp3':\n",
    "                yt.streams.filter(only_audio=True).first().download(output_path=arquivo)\n",
    "                print(f'{yt.title}.{tipo} baixado')           \n",
    "            elif tipo != 'mp4' and tipo != 'mp3':\n",
    "                print(f'ESCREVA MP3 OU MP4, VOCÊ ESCREVEU: {tipo}')\n",
    "\n",
    "except ValueError:\n",
    "    print(f'NÚMERO DE LINKS NÃO ACEITO, VOCÊ ESCREVEU: {num}')\n",
    "    pass\n",
    "\n",
    "except KeyError:\n",
    "    print(f'O LINK DIRECIONA A ALGO PRIVADO, COLOQUE-O EM NÃO LISTADO PARA CONSEGUIR BAIXAR!!!')\n",
    "    pass\n",
    "\n",
    "print('\\n')\n",
    "print('-PROGRAMA FINALIZADO-\\n'*2)"
   ]
  }
 ],
 "metadata": {
  "kernelspec": {
   "display_name": "venv",
   "language": "python",
   "name": "python3"
  },
  "language_info": {
   "codemirror_mode": {
    "name": "ipython",
    "version": 3
   },
   "file_extension": ".py",
   "mimetype": "text/x-python",
   "name": "python",
   "nbconvert_exporter": "python",
   "pygments_lexer": "ipython3",
   "version": "3.11.1"
  },
  "orig_nbformat": 4
 },
 "nbformat": 4,
 "nbformat_minor": 2
}
